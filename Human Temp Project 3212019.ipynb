{
 "cells": [
  {
   "cell_type": "code",
   "execution_count": 39,
   "metadata": {},
   "outputs": [
    {
     "name": "stdout",
     "output_type": "stream",
     "text": [
      "[[<matplotlib.axes._subplots.AxesSubplot object at 0x000001B5FAB4FA20>]]\n"
     ]
    },
    {
     "data": {
      "image/png": "[encoded data removed]",
      "text/plain": [
       "<Figure size 432x288 with 1 Axes>"
      ]
     },
     "metadata": {
      "needs_background": "light"
     },
     "output_type": "display_data"
    }
   ],
   "source": [
    "import pandas as pd\n",
    "import matplotlib.pyplot as plt \n",
    "import numpy as np\n",
    "import scipy.stats as sci\n",
    "\n",
    "from IPython.core.interactiveshell import InteractiveShell\n",
    "\n",
    "InteractiveShell.ast_node_interactivity = \"all\"\n",
    "df = pd.read_csv('data/human_body_temperature.csv')\n",
    "temp=df['temperature']\n",
    "print(df.hist('temperature'))\n"
   ]
  },
  {
   "cell_type": "code",
   "execution_count": null,
   "metadata": {},
   "outputs": [],
   "source": [
    "The graphs look essentially the same and n>30 at over 100 so sample isnt normal thanks to CLT we can assume a normal distribution."
   ]
  },
  {
   "cell_type": "code",
   "execution_count": 24,
   "metadata": {},
   "outputs": [
    {
     "name": "stdout",
     "output_type": "stream",
     "text": [
      "(array([   5.,   39.,  279., 1060., 2238., 2888., 2131., 1010.,  298.,\n",
      "         52.]), array([ 95.27203312,  95.81249098,  96.35294884,  96.8934067 ,\n",
      "        97.43386455,  97.97432241,  98.51478027,  99.05523813,\n",
      "        99.59569599, 100.13615385, 100.67661171]), <a list of 10 Patch objects>)\n"
     ]
    },
    {
     "data": {
      "image/png": "[encoded data removed]",
      "text/plain": [
       "<Figure size 432x288 with 1 Axes>"
      ]
     },
     "metadata": {
      "needs_background": "light"
     },
     "output_type": "display_data"
    }
   ],
   "source": [
    "tempnorm=np.random.normal(np.mean(temp),np.std(temp),size=10000)\n",
    "print(plt.hist(tempnorm))\n",
    "\n",
    "\n"
   ]
  },
  {
   "cell_type": "markdown",
   "metadata": {},
   "source": [
    "Question 2 because there are 130 rows and N>30 by central limit theorem sample size is large enough. Also 130 is not all people ever. In addition the graph appears to be slightly less extreme than the sample graph with less values at 96 but more at 99-100. "
   ]
  },
  {
   "cell_type": "code",
   "execution_count": 30,
   "metadata": {},
   "outputs": [
    {
     "name": "stdout",
     "output_type": "stream",
     "text": [
      "count    130.000000\n",
      "mean      98.249231\n",
      "std        0.733183\n",
      "min       96.300000\n",
      "25%       97.800000\n",
      "50%       98.300000\n",
      "75%       98.700000\n",
      "max      100.800000\n",
      "Name: temperature, dtype: float64\n",
      "0.0\n"
     ]
    }
   ],
   "source": [
    "\n",
    "\n",
    "\n",
    "# Question 3\n",
    "\n",
    "#Null hypothesis: H0=98.6\n",
    "#HA mu!=98.6\n",
    "print(temp.describe())\n",
    "#Mean=98.249231\n",
    "\n"
   ]
  },
  {
   "cell_type": "code",
   "execution_count": 26,
   "metadata": {},
   "outputs": [
    {
     "name": "stdout",
     "output_type": "stream",
     "text": [
      "Ttest_1sampResult(statistic=-5.4548232923645195, pvalue=2.4106320415561276e-07)\n"
     ]
    }
   ],
   "source": [
    "boottest=np.empty(5555)\n",
    "for x in range(len(boottest)):\n",
    "   bootsample=np.random.choice(temp, size=len(boottest))\n",
    "   boottest[x]=np.mean(bootsample)\n",
    "    \n",
    "p = np.sum(boottest >= 98.6)/5555   \n",
    "print(p)\n",
    "\n",
    "#p=0.0 so we discount H0...\n",
    "#There is only 1 sample and because we dont know population std we use 1 sample t test. \n",
    "\n",
    "\n",
    "\n"
   ]
  },
  {
   "cell_type": "code",
   "execution_count": 31,
   "metadata": {},
   "outputs": [
    {
     "name": "stdout",
     "output_type": "stream",
     "text": [
      "Ttest_1sampResult(statistic=-5.4548232923645195, pvalue=2.4106320415561276e-07)\n"
     ]
    }
   ],
   "source": [
    "\n",
    "ptest= sci.ttest_1samp(temp, 98.6)\n",
    "print(ptest)\n"
   ]
  },
  {
   "cell_type": "markdown",
   "metadata": {},
   "source": [
    "Null hypothese is that H0 mu=98.6 HA is the mu!= 98.6. The sample mean is 98.249231...with a tstat of -5.45 and p=0.0 with bootstrap we reject H0. Because we dont know population std nor mean we are going to use a 1 sample T test...as we are only looking at temperature. The results appear to be the same and we reject H0.\n",
    ". "
   ]
  },
  {
   "cell_type": "code",
   "execution_count": 102,
   "metadata": {},
   "outputs": [
    {
     "name": "stdout",
     "output_type": "stream",
     "text": [
      "98.13000000000001\n",
      "Ttest_1sampResult(statistic=-1.7250368497264172, pvalue=0.11860508483505568)\n"
     ]
    }
   ],
   "source": [
    "#Question 4\n",
    "sample10 = np.random.choice(temp, size=10)\n",
    "print(sample10.mean())\n",
    "ptest10 = sci.ttest_1samp(sample10, 98.6)\n",
    "print(ptest10)"
   ]
  },
  {
   "cell_type": "markdown",
   "metadata": {},
   "source": [
    "With a smaller sample of size of 10 it get a lower tstate of -1.006 versus -5.45 but and because of this, we do not reject H0 as .34 is greatter than .05. In addition we got a mean of .05. Running this test over and over leads to different reuslts where sometimes we would reject H0. Hence why using such a small sample is not recommended. "
   ]
  },
  {
   "cell_type": "code",
   "execution_count": 99,
   "metadata": {},
   "outputs": [
    {
     "name": "stdout",
     "output_type": "stream",
     "text": [
      "(95.98378179084688, 100.46658724605678) bootstrap ci\n",
      "2.2414027276049495 bootstrap s.e\n",
      "96.00782804162583 100.49063349683573 frequestist ci\n",
      "2.2414027276049495 frequentist s.e\n"
     ]
    }
   ],
   "source": [
    "#Question 5\n",
    "#First find sample std\n",
    "\n",
    "bootmean = np.mean(bootsample)\n",
    "bootci = sci.norm.interval(0.975, loc=np.mean(bootsample))\n",
    "print(bootci,\"bootstrap ci\")\n",
    "#bootstrap CI\n",
    "\n",
    "tempse=(bootci[1]-bootci[0])/2\n",
    "print(tempse, \"bootstrap s.e\")\n",
    "#bootstrap SE\n",
    "\n",
    "abcimin,abcimax = sci.norm.interval(0.975, loc=np.mean(temp))\n",
    "print(abcimin,abcimax, \"frequestist ci\")\n",
    "print(abcimax-np.mean(temp), \"frequentist s.e\")\n",
    "\n",
    "\n",
    "\n"
   ]
  },
  {
   "cell_type": "markdown",
   "metadata": {},
   "source": [
    "Based on the bootstrap CI of 97.5% confidence interval we use the scipy function at the mean of bootsample from early question. The result shows that with 97.5% confidence the true population mean is between 95.98 and 100.47. Using the frequentist option we show that wirg 97.5 confidence that the true population is between 96.01 and 100.49. A slightly increased mean based but almost exactly the same. "
   ]
  },
  {
   "cell_type": "code",
   "execution_count": 100,
   "metadata": {},
   "outputs": [
    {
     "data": {
      "text/plain": [
       "(array([ 1.,  2.,  5.,  7.,  8., 14.,  8., 11.,  5.,  4.]),\n",
       " array([96.3 , 96.62, 96.94, 97.26, 97.58, 97.9 , 98.22, 98.54, 98.86,\n",
       "        99.18, 99.5 ]),\n",
       " <a list of 10 Patch objects>)"
      ]
     },
     "execution_count": 100,
     "metadata": {},
     "output_type": "execute_result"
    },
    {
     "data": {
      "text/plain": [
       "(array([ 3.,  2.,  4., 12., 15., 20.,  6.,  1.,  1.,  1.]),\n",
       " array([ 96.4 ,  96.84,  97.28,  97.72,  98.16,  98.6 ,  99.04,  99.48,\n",
       "         99.92, 100.36, 100.8 ]),\n",
       " <a list of 10 Patch objects>)"
      ]
     },
     "execution_count": 100,
     "metadata": {},
     "output_type": "execute_result"
    },
    {
     "data": {
      "image/png": "[encoded data removed]",
      "text/plain": [
       "<Figure size 432x288 with 2 Axes>"
      ]
     },
     "metadata": {
      "needs_background": "light"
     },
     "output_type": "display_data"
    }
   ],
   "source": [
    "#question 6\n",
    "M = df[df.gender == 'M']\n",
    "F = df[df.gender == 'F']\n",
    "Mtemp=M['temperature']\n",
    "Ftemp=F['temperature']\n",
    "\n",
    "fig, axs = plt.subplots(1, 2, sharey=True)\n",
    "axs[0].hist(Mtemp)\n",
    "axs[1].hist(Ftemp,color='red')\n",
    "plt.show()\n",
    "\n"
   ]
  },
  {
   "cell_type": "markdown",
   "metadata": {},
   "source": []
  },
  {
   "cell_type": "code",
   "execution_count": 95,
   "metadata": {},
   "outputs": [
    {
     "data": {
      "text/plain": [
       "count    65.000000\n",
       "mean     98.104615\n",
       "std       0.698756\n",
       "min      96.300000\n",
       "25%      97.600000\n",
       "50%      98.100000\n",
       "75%      98.600000\n",
       "max      99.500000\n",
       "Name: temperature, dtype: float64"
      ]
     },
     "execution_count": 95,
     "metadata": {},
     "output_type": "execute_result"
    },
    {
     "data": {
      "text/plain": [
       "count     65.000000\n",
       "mean      98.393846\n",
       "std        0.743488\n",
       "min       96.400000\n",
       "25%       98.000000\n",
       "50%       98.400000\n",
       "75%       98.800000\n",
       "max      100.800000\n",
       "Name: temperature, dtype: float64"
      ]
     },
     "execution_count": 95,
     "metadata": {},
     "output_type": "execute_result"
    },
    {
     "name": "stdout",
     "output_type": "stream",
     "text": [
      "0.289230769230727 Female Mean is bigger than Male Man\n",
      "0.04473199040477571 Female STD is bigger than Male STD\n",
      "95.86321265701045 100.34601811222035 Male ci\n",
      "2.2414027276049495 Male M.E\n",
      "96.15244342624118 100.63524888145108 Female ci\n",
      "2.2414027276049495 Female M.E\n"
     ]
    }
   ],
   "source": [
    "Mtemp.describe()\n",
    "Ftemp.describe()\n",
    "\n",
    "print(Ftemp.mean()-Mtemp.mean(),\"Female Mean is bigger than Male Man\")\n",
    "print(Ftemp.std()-Mtemp.std(),\"Female STD is bigger than Male STD\")\n",
    "\n",
    "Mcimin,Mcimax = sci.norm.interval(0.975, loc=np.mean(Mtemp))\n",
    "print(Mcimin,Mcimax, \"Male ci\")\n",
    "print(Mcimax-Mtemp.mean(), \"Male M.E\")\n",
    "\n",
    "Fcimin,Fcimax = sci.norm.interval(0.975, loc=np.mean(Ftemp))\n",
    "print(Fcimin,Fcimax, \"Female ci\")\n",
    "print(Fcimax-Ftemp.mean(), \"Female M.E\")\n",
    "\n"
   ]
  },
  {
   "cell_type": "markdown",
   "metadata": {},
   "source": [
    "We can assume that these approximately normal and can use this form of CI because N is still 65...which is >30. Female appears to have a slightly higher mean and slightly higher STD, and thus the CI is slightly bigger on that end but the two margin of errors appear to be exactly the same. Based on the Histograms, females tend to have more extremes with more over 100 and around 97 but also more right around the sample normals of 97-98. "
   ]
  },
  {
   "cell_type": "code",
   "execution_count": null,
   "metadata": {},
   "outputs": [],
   "source": []
  }
 ],
 "metadata": {
  "kernelspec": {
   "display_name": "Python 3",
   "language": "python",
   "name": "python3"
  },
  "language_info": {
   "codemirror_mode": {
    "name": "ipython",
    "version": 3
   },
   "file_extension": ".py",
   "mimetype": "text/x-python",
   "name": "python",
   "nbconvert_exporter": "python",
   "pygments_lexer": "ipython3",
   "version": "3.7.1"
  }
 },
 "nbformat": 4,
 "nbformat_minor": 2
}
